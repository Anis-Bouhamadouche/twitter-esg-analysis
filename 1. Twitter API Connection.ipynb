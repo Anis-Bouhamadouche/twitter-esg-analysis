{
 "cells": [
  {
   "cell_type": "code",
   "execution_count": 8,
   "id": "c6a5b38f",
   "metadata": {},
   "outputs": [],
   "source": [
    "import tweepy\n",
    "import pandas as pd\n",
    "import time"
   ]
  },
  {
   "cell_type": "code",
   "execution_count": 13,
   "id": "da79fe0d",
   "metadata": {},
   "outputs": [],
   "source": [
    "API_KEY = \"XXXXXXXXXX\"\n",
    "API_KEY_SECRECT = \"XXXXXXXXXXXXX\"\n",
    "ACCESS_TOKEN = \"XXXXXXXXXXXXXXXXXX\"\n",
    "ACCESS_TOKEN_SECRET = \"XXXXXXXXXXXX\"\n",
    "BEARER_TOKEN = \"XXXXXXXXXXXXXXXXXXXXXXXXXXXXXXXXXXXXXXXXXXXXXXXX\""
   ]
  },
  {
   "cell_type": "code",
   "execution_count": 14,
   "id": "2c57d579",
   "metadata": {},
   "outputs": [],
   "source": [
    "client = tweepy.Client(BEARER_TOKEN, wait_on_rate_limit=True)"
   ]
  },
  {
   "cell_type": "code",
   "execution_count": 1,
   "id": "36d56b26",
   "metadata": {},
   "outputs": [],
   "source": [
    "query = \"your_query_here\"\n",
    "# check for the length of query as it is restricted by the API\n",
    "len(query)"
   ]
  },
  {
   "cell_type": "code",
   "execution_count": 2,
   "id": "9df758d4",
   "metadata": {},
   "outputs": [],
   "source": [
    "esg_tweets = []\n",
    "count = 0\n",
    "\n",
    "for response in tweepy.Paginator(client.search_all_tweets,\n",
    "                 query = query,\n",
    "                 user_fields = ['username', 'public_metrics', 'id', 'location', 'name'],\n",
    "                 tweet_fields = ['created_at', 'geo', 'public_metrics', 'text', \n",
    "                                 'in_reply_to_user_id', 'lang', 'referenced_tweets'],\n",
    "                 expansions = ['author_id', 'in_reply_to_user_id'],\n",
    "                 start_time = '2022-01-01T00:00:00Z',\n",
    "                 end_time = '2022-05-01T00:00:00Z',\n",
    "                 max_results=500):\n",
    "    try:\n",
    "        time.sleep(1)\n",
    "        user_list = []\n",
    "        user_dict = {}\n",
    "        tweets_list = []\n",
    "        \n",
    "        # get user data\n",
    "        for user in response.includes['users']:\n",
    "            user_list.append({'id': user.id,\n",
    "                                 'username': user.name,\n",
    "                                 'description': user.description,\n",
    "                                 'followers': user.public_metrics['followers_count'],\n",
    "                                 'following': user.public_metrics['following_count'],\n",
    "                                 'tweets_count': user.public_metrics['tweet_count'],\n",
    "                                 'location' : user.location})\n",
    "\n",
    "        tweet_count = 0\n",
    "        \n",
    "        # get tweets\n",
    "        for tweet in response.data:\n",
    "\n",
    "            tweets_list.append({'author_id': tweet.author_id,\n",
    "                               'username': user_list[tweet_count]['username'],\n",
    "                               'text': tweet.text,\n",
    "                               'created_at': tweet.created_at,\n",
    "                               'retweets': tweet.public_metrics['retweet_count'],\n",
    "                                'replies': tweet.public_metrics['reply_count'],\n",
    "                               'likes': tweet.public_metrics['like_count'],\n",
    "                               'quote_count': tweet.public_metrics['quote_count'],\n",
    "                               'in_reply_to_user_id': tweet.in_reply_to_user_id,\n",
    "                               'geo': tweet.geo,\n",
    "                               'referenced_tweets_id': tweet.referenced_tweets,\n",
    "                               'referenced_tweets_type': tweet.referenced_tweets,\n",
    "                               'lang': tweet.lang})\n",
    "            tweet_count +=1\n",
    "\n",
    "        user_df = pd.DataFrame(user_list)\n",
    "        tweet_df = pd.DataFrame(tweets_list)\n",
    "        \n",
    "        # saving both user and tweets data\n",
    "        user_df.to_csv(f\"users_{count}.csv\")\n",
    "        tweet_df.to_csv(f\"tweet_{count}.csv\")\n",
    "        count +=1\n",
    "        \n",
    "        # change this number to the number of tweets you wish to get\n",
    "        if count*500 > 2500000:\n",
    "            break\n",
    "            \n",
    "    except:\n",
    "        print(f\"tweets chunk {count} failed\")          "
   ]
  }
 ],
 "metadata": {
  "kernelspec": {
   "display_name": "Python 3 (ipykernel)",
   "language": "python",
   "name": "python3"
  },
  "language_info": {
   "codemirror_mode": {
    "name": "ipython",
    "version": 3
   },
   "file_extension": ".py",
   "mimetype": "text/x-python",
   "name": "python",
   "nbconvert_exporter": "python",
   "pygments_lexer": "ipython3",
   "version": "3.9.12"
  }
 },
 "nbformat": 4,
 "nbformat_minor": 5
}
